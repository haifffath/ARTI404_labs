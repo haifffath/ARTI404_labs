{
  "nbformat": 4,
  "nbformat_minor": 0,
  "metadata": {
    "colab": {
      "provenance": []
    },
    "kernelspec": {
      "name": "python3",
      "display_name": "Python 3"
    },
    "language_info": {
      "name": "python"
    }
  },
  "cells": [
    {
      "cell_type": "markdown",
      "source": [
        "# 1.Data Types Conversion Exercise\n",
        "\n",
        "Task: Write a script to convert between different data types (e.g., int to float, list to tuple).\n",
        "\n",
        "Hint: Use built-in functions like int(), float(), list(), tuple().\n",
        "\n",
        "Example: Convert a list of integers into a tuple of floats."
      ],
      "metadata": {
        "id": "DtcdmXwMoiqW"
      }
    },
    {
      "cell_type": "code",
      "source": [
        "#list of integers\n",
        "int_list = [1, 2, 3, 4, 5]\n",
        "\n",
        "#Convert integers to floats\n",
        "float_tuple = tuple(map(float, int_list))\n",
        "\n",
        "print(\"Original List of Integers:\", int_list)\n",
        "print(\"Converted Tuple of Floats:\", float_tuple)\n"
      ],
      "metadata": {
        "colab": {
          "base_uri": "https://localhost:8080/"
        },
        "id": "IUXNn5D2oxmp",
        "outputId": "ba8e8de9-4c77-42e5-f3d0-049c60a6247c"
      },
      "execution_count": 1,
      "outputs": [
        {
          "output_type": "stream",
          "name": "stdout",
          "text": [
            "Original List of Integers: [1, 2, 3, 4, 5]\n",
            "Converted Tuple of Floats: (1.0, 2.0, 3.0, 4.0, 5.0)\n"
          ]
        }
      ]
    },
    {
      "cell_type": "markdown",
      "source": [
        "#2. List Manipulation Exercise\n",
        "\n",
        "**Task:** Create a list of numbers, then write a function to perform operations like adding a number, removing a number, and finding the index of a number.\n",
        "\n",
        "**Hint:** Use methods like append(), remove(), index().\n",
        "\n",
        "**Example:** Start with a list [1, 2, 3], add 4, remove 2, and find the index of 3."
      ],
      "metadata": {
        "id": "P-CrvP2UqIBB"
      }
    },
    {
      "cell_type": "code",
      "source": [
        "numbers = [1, 2, 3]\n",
        "\n",
        "#Original list\n",
        "print(\"Initial list:\", numbers)\n",
        "\n",
        "#function to perform add, remove, and find_index operations\n",
        "def list_op(operation, number=None):\n",
        "    if operation == 'add':\n",
        "        numbers.append(number)\n",
        "        print(f\"List after adding {number}:\", numbers)\n",
        "    elif operation == 'remove':\n",
        "        if number in numbers:\n",
        "            numbers.remove(number)\n",
        "            print(f\"List after removing {number}:\", numbers)\n",
        "        else:\n",
        "            print(f\"{number} not found in the list\")\n",
        "    elif operation == 'find_index':\n",
        "        if number in numbers:\n",
        "            index = numbers.index(number)\n",
        "            print(f\"The index of {number} is: {index}\")\n",
        "        else:\n",
        "            print(f\"{number} not found in the list\")\n",
        "    else:\n",
        "        print(\"Invalid operation. Supported operations: 'add', 'remove', 'find_index'.\")\n",
        "\n",
        "#perform operations\n",
        "list_op('add', 4)\n",
        "list_op('remove', 2)\n",
        "list_op('find_index', 3)\n"
      ],
      "metadata": {
        "id": "YPK0d0vPqOOs",
        "colab": {
          "base_uri": "https://localhost:8080/"
        },
        "outputId": "ff8498a7-d04e-4169-a14d-6e59e9cab529"
      },
      "execution_count": 3,
      "outputs": [
        {
          "output_type": "stream",
          "name": "stdout",
          "text": [
            "Initial list: [1, 2, 3]\n",
            "List after adding 4: [1, 2, 3, 4]\n",
            "List after removing 2: [1, 3, 4]\n",
            "The index of 3 is: 1\n"
          ]
        }
      ]
    },
    {
      "cell_type": "markdown",
      "source": [
        "#3. Dictionary Operations Exercise\n",
        "\n",
        "\n",
        "\n",
        "\n",
        "**Task:** Create a dictionary representing a phone book, then add, remove, and modify entries.\n",
        "\n",
        "**Hint:** Use keys for names and values for phone numbers.\n",
        "\n",
        "**Example:** Start with an empty phone book, add three new contacts, delete one, and change a number."
      ],
      "metadata": {
        "id": "yfJqg88NqoO4"
      }
    },
    {
      "cell_type": "code",
      "source": [
        "#Create an empty dictionary\n",
        "phone_book = {}\n",
        "\n",
        "#Add new contacts\n",
        "phone_book['Haifa'] = '544552277'\n",
        "phone_book['Sara'] = '592876753'\n",
        "phone_book['Nora'] = '5668811998'\n",
        "\n",
        "print(\"Phone book after adding contacts:\", phone_book)\n",
        "\n",
        "# Remove\n",
        "if 'Nora' in phone_book:\n",
        "    del phone_book['Nora']\n",
        "    print(\"Phone book after removing Nora:\", phone_book)\n",
        "else:\n",
        "    print(\"Nora not found in the phone book.\")\n",
        "\n",
        "# Modify\n",
        "if 'Haifa' in phone_book:\n",
        "    phone_book['Haifa'] = '577889322'\n",
        "    print(\"Phone book after changing Haifa's number:\", phone_book)\n",
        "else:\n",
        "    print(\"Haifa not found in the phone book\")\n"
      ],
      "metadata": {
        "colab": {
          "base_uri": "https://localhost:8080/"
        },
        "id": "Cy8D7pJP_t92",
        "outputId": "5e601847-1ba6-44a3-93a7-da1889cab8ab"
      },
      "execution_count": 4,
      "outputs": [
        {
          "output_type": "stream",
          "name": "stdout",
          "text": [
            "Phone book after adding contacts: {'Haifa': '544552277', 'Sara': '592876753', 'Nora': '5668811998'}\n",
            "Phone book after removing Nora: {'Haifa': '544552277', 'Sara': '592876753'}\n",
            "Phone book after changing Haifa's number: {'Haifa': '577889322', 'Sara': '592876753'}\n"
          ]
        }
      ]
    },
    {
      "cell_type": "markdown",
      "source": [
        "#4. String Formatting Exercise\n",
        "\n",
        "**Task:** Write a script that takes user input and formats it in a specific way (e.g., date formatting).\n",
        "\n",
        "**Hint:** Use string methods like split(), join(), and formatting techniques.\n",
        "\n",
        "**Example:** Convert \"2024-01-29\" to \"January 29, 2024\""
      ],
      "metadata": {
        "id": "u2RSRTWe_u3B"
      }
    },
    {
      "cell_type": "code",
      "source": [
        "#Get user input\n",
        "user_date = input(\"Enter a date in the format YYYY-MM-DD: \")\n",
        "\n",
        "#Split the input\n",
        "splitted_date = user_date.split('-')\n",
        "\n",
        "\n",
        "months = {\n",
        "    '01': 'January',\n",
        "    '02': 'February',\n",
        "    '03': 'March',\n",
        "    '04': 'April',\n",
        "    '05': 'May',\n",
        "    '06': 'June',\n",
        "    '07': 'July',\n",
        "    '08': 'August',\n",
        "    '09': 'September',\n",
        "    '10': 'October',\n",
        "    '11': 'November',\n",
        "    '12': 'December'\n",
        "}\n",
        "\n",
        "formatted_date = f\"{months[splitted_date[1]]} {int(splitted_date[2])}, {splitted_date[0]}\"\n",
        "print(\"Formatted date:\", formatted_date)\n"
      ],
      "metadata": {
        "colab": {
          "base_uri": "https://localhost:8080/"
        },
        "id": "sgisWUOxAmgD",
        "outputId": "814e4e17-f457-45b4-de6b-7c14c5fc542d"
      },
      "execution_count": 5,
      "outputs": [
        {
          "output_type": "stream",
          "name": "stdout",
          "text": [
            "Enter a date in the format YYYY-MM-DD: 2024-03-01\n",
            "Formatted date: March 1, 2024\n"
          ]
        }
      ]
    },
    {
      "cell_type": "markdown",
      "source": [
        "#5. Numpy Array Operations Exercise\n",
        "\n",
        "**Task:** Create a numpy array, perform operations like sum, mean, and reshape.\n",
        "\n",
        "**Hint:** Use numpy functions like sum(), mean(), reshape().\n",
        "\n",
        "**Example:** Create an array of shape (2, 5), calculate its sum, and reshape it to (5, 2)."
      ],
      "metadata": {
        "id": "7sCcDaI7Ajht"
      }
    },
    {
      "cell_type": "code",
      "source": [
        "import numpy as np\n",
        "\n",
        "original_array = np.array([[1, 2, 3, 4, 5],\n",
        "                           [6, 7, 8, 9, 10]])\n",
        "\n",
        "#Print the original array\n",
        "print(\"Original array:\")\n",
        "print(original_array)\n",
        "\n",
        "sum = np.sum(original_array)\n",
        "print(\"\\nSum of the array:\", sum)\n",
        "\n",
        "mean = np.mean(original_array)\n",
        "print(\"\\nMean of the array:\", mean)\n",
        "\n",
        "reshaped = original_array.reshape(5, 2)\n",
        "print(\"\\nArray after reshaping to (5, 2):\")\n",
        "print(reshaped)\n"
      ],
      "metadata": {
        "colab": {
          "base_uri": "https://localhost:8080/"
        },
        "id": "CvHyI8D-8dvv",
        "outputId": "8d493f55-3807-46bb-da23-21c1f47e25f2"
      },
      "execution_count": 6,
      "outputs": [
        {
          "output_type": "stream",
          "name": "stdout",
          "text": [
            "Original array:\n",
            "[[ 1  2  3  4  5]\n",
            " [ 6  7  8  9 10]]\n",
            "\n",
            "Sum of the array: 55\n",
            "\n",
            "Mean of the array: 5.5\n",
            "\n",
            "Array after reshaping to (5, 2):\n",
            "[[ 1  2]\n",
            " [ 3  4]\n",
            " [ 5  6]\n",
            " [ 7  8]\n",
            " [ 9 10]]\n"
          ]
        }
      ]
    },
    {
      "cell_type": "markdown",
      "source": [
        "#6. Basic Matplotlib Plotting Exercise\n",
        "\n",
        "**Task:** Use matplotlib to plot a simple line graph and a scatter plot.\n",
        "\n",
        "**Hint:** Use plt.plot() for line graphs and plt.scatter() for scatter plots.\n",
        "\n",
        "**Example:** Plot y = x^2 as a line graph and random points as a scatter plot."
      ],
      "metadata": {
        "id": "FhbAPF8J4eR3"
      }
    },
    {
      "cell_type": "code",
      "source": [
        "import matplotlib.pyplot as plt\n",
        "import numpy as np\n",
        "\n",
        "#data for the line graph y = x^2\n",
        "x_line = np.linspace(-5, 5, 100)\n",
        "y_line = x_line**2\n",
        "\n",
        "#random data for the scatter plot\n",
        "np.random.seed(42)\n",
        "x_scatter = np.random.randn(50)\n",
        "y_scatter = np.random.randn(50)\n",
        "\n",
        "#line graph\n",
        "plt.figure(figsize=(8, 4))\n",
        "plt.subplot(1, 2, 1)\n",
        "plt.plot(x_line, y_line, label='y = x^2')\n",
        "plt.title('Line Graph')\n",
        "\n",
        "#scatter plot\n",
        "plt.subplot(1, 2, 2)\n",
        "plt.scatter(x_scatter, y_scatter, color='red')\n",
        "plt.title('Scatter Plot')\n",
        "\n",
        "plt.tight_layout() #to prevent overlapping\n",
        "plt.show()\n"
      ],
      "metadata": {
        "colab": {
          "base_uri": "https://localhost:8080/",
          "height": 407
        },
        "id": "EW0Al2UN9D6f",
        "outputId": "5bedab19-782c-4a45-9a5d-5996ff79d4ad"
      },
      "execution_count": 6,
      "outputs": [
        {
          "output_type": "display_data",
          "data": {
            "text/plain": [
              "<Figure size 800x400 with 2 Axes>"
            ],
            "image/png": "[encoded data removed]"
          },
          "metadata": {}
        }
      ]
    },
    {
      "cell_type": "markdown",
      "source": [],
      "metadata": {
        "id": "0dn2FqBHqr_x"
      }
    }
  ]
}